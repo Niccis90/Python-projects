{
 "cells": [
  {
   "cell_type": "code",
   "execution_count": 1,
   "metadata": {},
   "outputs": [],
   "source": [
    "import numpy as np\n",
    "import pandas as pd\n",
    "from pandas_datareader import data as wb\n",
    "from scipy.stats import norm\n",
    "import matplotlib.pyplot as plt\n",
    "import yfinance as yf\n",
    "%matplotlib inline"
   ]
  },
  {
   "cell_type": "code",
   "execution_count": 2,
   "metadata": {},
   "outputs": [],
   "source": [
    "stocks = ['AAPL', 'WMT', 'TSLA','AMZN','DB','GE']\n",
    "weights = np.array([1/6, 1/6, 1/6, 1/6,1/6, 1/6])\n",
    "start_date = '2012-01-01'\n",
    "end_date = '2022-10-08'\n",
    "initial_investment = 1000000\n",
    "c_level = 0.01\n"
   ]
  },
  {
   "cell_type": "code",
   "execution_count": 3,
   "metadata": {},
   "outputs": [],
   "source": [
    "def download_data():\n",
    "    stock_data = {}\n",
    "    for stock in stocks:\n",
    "        ticker = yf.Ticker(stock)\n",
    "        stock_data[stock] = ticker.history(start = start_date,end= end_date)['Close']\n",
    "        \n",
    "\n",
    "    return pd.DataFrame(stock_data)\n",
    "\n",
    "\n",
    "def returns(data):\n",
    "    log_returns = np.log(data/data.shift(1))\n",
    "    return log_returns[1:]\n"
   ]
  },
  {
   "cell_type": "code",
   "execution_count": 4,
   "metadata": {},
   "outputs": [],
   "source": [
    "stockdata = ['SPY','EMBC','ITIC','MNDO','TSE','COIN','SI','BTC-USD']\n",
    "def download_data1():\n",
    "    stockdata1 = {}\n",
    "    for i in stockdata:\n",
    "        ticker = yf.Ticker(i)\n",
    "        stockdata1[i] = ticker.history(start=start_date,end=end_date)['Close']\n",
    "    return pd.DataFrame(stockdata1)\n",
    "\n",
    "\n",
    "data1 = download_data1()\n",
    "daily_returns1 = returns(data1).dropna()\n",
    "COV_matrix1 = daily_returns1.cov()\n",
    "corr1_matrix = daily_returns1.corr()"
   ]
  },
  {
   "cell_type": "code",
   "execution_count": 10,
   "metadata": {},
   "outputs": [
    {
     "data": {
      "text/html": [
       "<div>\n",
       "<style scoped>\n",
       "    .dataframe tbody tr th:only-of-type {\n",
       "        vertical-align: middle;\n",
       "    }\n",
       "\n",
       "    .dataframe tbody tr th {\n",
       "        vertical-align: top;\n",
       "    }\n",
       "\n",
       "    .dataframe thead th {\n",
       "        text-align: right;\n",
       "    }\n",
       "</style>\n",
       "<table border=\"1\" class=\"dataframe\">\n",
       "  <thead>\n",
       "    <tr style=\"text-align: right;\">\n",
       "      <th></th>\n",
       "      <th>SPY</th>\n",
       "      <th>EMBC</th>\n",
       "      <th>ITIC</th>\n",
       "      <th>MNDO</th>\n",
       "      <th>TSE</th>\n",
       "      <th>COIN</th>\n",
       "      <th>SI</th>\n",
       "      <th>BTC-USD</th>\n",
       "    </tr>\n",
       "  </thead>\n",
       "  <tbody>\n",
       "    <tr>\n",
       "      <th>SPY</th>\n",
       "      <td>1.0</td>\n",
       "      <td>0.631468</td>\n",
       "      <td>0.760172</td>\n",
       "      <td>0.332163</td>\n",
       "      <td>1.526323</td>\n",
       "      <td>3.211863</td>\n",
       "      <td>2.854368</td>\n",
       "      <td>1.364992</td>\n",
       "    </tr>\n",
       "  </tbody>\n",
       "</table>\n",
       "</div>"
      ],
      "text/plain": [
       "     SPY      EMBC      ITIC      MNDO       TSE      COIN        SI   BTC-USD\n",
       "SPY  1.0  0.631468  0.760172  0.332163  1.526323  3.211863  2.854368  1.364992"
      ]
     },
     "execution_count": 10,
     "metadata": {},
     "output_type": "execute_result"
    }
   ],
   "source": [
    "spycov = COV_matrix1['SPY']['SPY']\n",
    "btcvar = COV_matrix1['BTC-USD']['BTC-USD']\n",
    "matrix1 = COV_matrix1 / spycov\n",
    "betas = matrix1[0:1]\n",
    "betas"
   ]
  },
  {
   "cell_type": "code",
   "execution_count": 13,
   "metadata": {},
   "outputs": [
    {
     "data": {
      "text/html": [
       "<div>\n",
       "<style scoped>\n",
       "    .dataframe tbody tr th:only-of-type {\n",
       "        vertical-align: middle;\n",
       "    }\n",
       "\n",
       "    .dataframe tbody tr th {\n",
       "        vertical-align: top;\n",
       "    }\n",
       "\n",
       "    .dataframe thead th {\n",
       "        text-align: right;\n",
       "    }\n",
       "</style>\n",
       "<table border=\"1\" class=\"dataframe\">\n",
       "  <thead>\n",
       "    <tr style=\"text-align: right;\">\n",
       "      <th></th>\n",
       "      <th>SPY</th>\n",
       "      <th>EMBC</th>\n",
       "      <th>ITIC</th>\n",
       "      <th>MNDO</th>\n",
       "      <th>TSE</th>\n",
       "      <th>COIN</th>\n",
       "      <th>SI</th>\n",
       "      <th>BTC-USD</th>\n",
       "    </tr>\n",
       "  </thead>\n",
       "  <tbody>\n",
       "    <tr>\n",
       "      <th>SPY</th>\n",
       "      <td>0.236679</td>\n",
       "      <td>0.149455</td>\n",
       "      <td>0.179917</td>\n",
       "      <td>0.078616</td>\n",
       "      <td>0.361249</td>\n",
       "      <td>0.760182</td>\n",
       "      <td>0.67557</td>\n",
       "      <td>0.323066</td>\n",
       "    </tr>\n",
       "  </tbody>\n",
       "</table>\n",
       "</div>"
      ],
      "text/plain": [
       "          SPY      EMBC      ITIC      MNDO       TSE      COIN       SI  \\\n",
       "SPY  0.236679  0.149455  0.179917  0.078616  0.361249  0.760182  0.67557   \n",
       "\n",
       "      BTC-USD  \n",
       "SPY  0.323066  "
      ]
     },
     "execution_count": 13,
     "metadata": {},
     "output_type": "execute_result"
    }
   ],
   "source": [
    "Matrix2 = COV_matrix1 / btcvar\n",
    "betas1 = Matrix2[0:1]\n",
    "betas1"
   ]
  },
  {
   "cell_type": "code",
   "execution_count": 6,
   "metadata": {},
   "outputs": [],
   "source": [
    "dataset = download_data()\n",
    "daily_returns = returns(dataset)\n",
    "COV_matrix = daily_returns.cov() \n",
    "MU = daily_returns.mean() \n",
    "corr_matrix = daily_returns.corr()\n",
    "port_MU = MU.dot(weights) # dot product of daily returns mean and weights vector.\n",
    "port_stdev = np.sqrt(weights.T.dot(COV_matrix).dot(weights)) # transpose weights vector and dot product it with covariance matrix and then with weights vector to get portfolio variance W.T * COV_M * W = port.std\n",
    "\n",
    "mean_invest = (1+port_MU) * initial_investment # convert mean and sigma to dollar value\n",
    "stdev_invest = port_stdev * initial_investment\n",
    "\n",
    "cutoff1 = norm.ppf(c_level,mean_invest,stdev_invest) # percent point function, with a 5% significance level, mu, sigma\n"
   ]
  },
  {
   "cell_type": "code",
   "execution_count": 7,
   "metadata": {},
   "outputs": [
    {
     "name": "stdout",
     "output_type": "stream",
     "text": [
      "your 1 day VaR is 32788.32  with a 95% probability\n"
     ]
    }
   ],
   "source": [
    "var1 = initial_investment - cutoff1\n",
    "print('your 1 day VaR is', round(var1,2 ), ' with a 95% probability')"
   ]
  },
  {
   "cell_type": "code",
   "execution_count": 8,
   "metadata": {},
   "outputs": [
    {
     "name": "stdout",
     "output_type": "stream",
     "text": [
      "1day Var @ set confidence level:32788.32\n",
      "2day Var @ set confidence level:46369.69\n",
      "3day Var @ set confidence level:56791.04\n",
      "4day Var @ set confidence level:65576.64\n",
      "5day Var @ set confidence level:73316.92\n",
      "6day Var @ set confidence level:80314.66\n",
      "7day Var @ set confidence level:86749.75\n",
      "8day Var @ set confidence level:92739.38\n",
      "9day Var @ set confidence level:98364.97\n",
      "10day Var @ set confidence level:103685.78\n",
      "11day Var @ set confidence level:108746.56\n",
      "12day Var @ set confidence level:113582.08\n",
      "13day Var @ set confidence level:118219.98\n",
      "14day Var @ set confidence level:122682.67\n",
      "15day Var @ set confidence level:126988.63\n"
     ]
    }
   ],
   "source": [
    "# value at risk over a multi period time frame\n",
    "\n",
    "var_array = []\n",
    "num_days = int(15)\n",
    "for x in range(1, num_days + 1):# for loop to display VaR for the next set amount of days\n",
    "    var_array.append(round(var1 * np.sqrt(x),2)) # var increases at a rate of sqrt(X) per day, T+2 would be VaR1*sqrt(2)*sqrt(3)*sqrt(4) ?\n",
    "    print(str(x)+ 'day Var @ set confidence level:' + str(round(var1 * np.sqrt(x),2)))"
   ]
  },
  {
   "cell_type": "code",
   "execution_count": 9,
   "metadata": {},
   "outputs": [
    {
     "data": {
      "text/plain": [
       "[<matplotlib.lines.Line2D at 0x195611b2800>]"
      ]
     },
     "execution_count": 9,
     "metadata": {},
     "output_type": "execute_result"
    },
    {
     "data": {
      "image/png": "[encoded data removed]",
      "text/plain": [
       "<Figure size 432x288 with 1 Axes>"
      ]
     },
     "metadata": {
      "needs_background": "light"
     },
     "output_type": "display_data"
    }
   ],
   "source": [
    "\n",
    "plt.xlabel(\"Day #\")\n",
    "plt.ylabel(\"Max portfolio loss (USD)\")\n",
    "plt.title(\"Max portfolio loss (VaR) over 15-day period at 95% confidence\")\n",
    "plt.plot(var_array, \"r\")"
   ]
  }
 ],
 "metadata": {
  "kernelspec": {
   "display_name": "venv",
   "language": "python",
   "name": "python3"
  },
  "language_info": {
   "codemirror_mode": {
    "name": "ipython",
    "version": 3
   },
   "file_extension": ".py",
   "mimetype": "text/x-python",
   "name": "python",
   "nbconvert_exporter": "python",
   "pygments_lexer": "ipython3",
   "version": "3.10.4"
  },
  "orig_nbformat": 4,
  "vscode": {
   "interpreter": {
    "hash": "66d7b70079b5c8870d7de54acf7b227f5505a259b44a77cce85105e10e9ee4b1"
   }
  }
 },
 "nbformat": 4,
 "nbformat_minor": 2
}
